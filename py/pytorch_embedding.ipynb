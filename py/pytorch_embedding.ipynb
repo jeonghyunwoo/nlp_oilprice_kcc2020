{
 "cells": [
  {
   "cell_type": "code",
   "execution_count": 1,
   "metadata": {},
   "outputs": [],
   "source": [
    "import torch"
   ]
  },
  {
   "cell_type": "code",
   "execution_count": 2,
   "metadata": {},
   "outputs": [],
   "source": [
    "import pandas as pd"
   ]
  },
  {
   "cell_type": "code",
   "execution_count": 6,
   "metadata": {},
   "outputs": [
    {
     "data": {
      "text/plain": [
       "'C:\\\\Users\\\\jeong\\\\proj\\\\nlp_paper\\\\py'"
      ]
     },
     "execution_count": 6,
     "metadata": {},
     "output_type": "execute_result"
    }
   ],
   "source": [
    "pwd"
   ]
  },
  {
   "cell_type": "code",
   "execution_count": 10,
   "metadata": {},
   "outputs": [],
   "source": [
    "dv = pd.read_pickle('../data/oil_news_dvec.pkl')"
   ]
  },
  {
   "cell_type": "code",
   "execution_count": 9,
   "metadata": {},
   "outputs": [],
   "source": [
    "df = pd.read_pickle('../data/oil_news_df.pkl')"
   ]
  },
  {
   "cell_type": "code",
   "execution_count": 11,
   "metadata": {},
   "outputs": [
    {
     "data": {
      "text/html": [
       "<div>\n",
       "<style scoped>\n",
       "    .dataframe tbody tr th:only-of-type {\n",
       "        vertical-align: middle;\n",
       "    }\n",
       "\n",
       "    .dataframe tbody tr th {\n",
       "        vertical-align: top;\n",
       "    }\n",
       "\n",
       "    .dataframe thead th {\n",
       "        text-align: right;\n",
       "    }\n",
       "</style>\n",
       "<table border=\"1\" class=\"dataframe\">\n",
       "  <thead>\n",
       "    <tr style=\"text-align: right;\">\n",
       "      <th></th>\n",
       "      <th>mon</th>\n",
       "      <th>keyword</th>\n",
       "      <th>rescnt</th>\n",
       "      <th>title</th>\n",
       "      <th>date</th>\n",
       "      <th>wkday</th>\n",
       "      <th>text</th>\n",
       "      <th>smry</th>\n",
       "      <th>press</th>\n",
       "    </tr>\n",
       "  </thead>\n",
       "  <tbody>\n",
       "    <tr>\n",
       "      <th>0</th>\n",
       "      <td>201301</td>\n",
       "      <td>oil price</td>\n",
       "      <td></td>\n",
       "      <td>Iran's Real Threat to the West</td>\n",
       "      <td></td>\n",
       "      <td></td>\n",
       "      <td>Since the Islamic revolution in Iran in 1979 m...</td>\n",
       "      <td>The real danger emanating from Iran today come...</td>\n",
       "      <td>oilprice.com</td>\n",
       "    </tr>\n",
       "    <tr>\n",
       "      <th>1</th>\n",
       "      <td>201301</td>\n",
       "      <td>oil price</td>\n",
       "      <td></td>\n",
       "      <td>Subscribe to read</td>\n",
       "      <td></td>\n",
       "      <td></td>\n",
       "      <td>Become an FT subscriber to read:\\n\\nLeverage o...</td>\n",
       "      <td>Become an FT subscriber to read:\\nLeverage our...</td>\n",
       "      <td>www.ft.com</td>\n",
       "    </tr>\n",
       "    <tr>\n",
       "      <th>2</th>\n",
       "      <td>201301</td>\n",
       "      <td>oil price</td>\n",
       "      <td></td>\n",
       "      <td>A Graphic View of How Shale Gas could Change t...</td>\n",
       "      <td></td>\n",
       "      <td></td>\n",
       "      <td>The real impact stems from its effect on the o...</td>\n",
       "      <td>...The major geopolitical impact of shale extr...</td>\n",
       "      <td>oilprice.com</td>\n",
       "    </tr>\n",
       "    <tr>\n",
       "      <th>3</th>\n",
       "      <td>201301</td>\n",
       "      <td>oil price</td>\n",
       "      <td></td>\n",
       "      <td>Government allows oil firms to revise diesel p...</td>\n",
       "      <td></td>\n",
       "      <td></td>\n",
       "      <td>In a move that could help the government reduc...</td>\n",
       "      <td>It had proposed a Rs 3-4.50 per litre hike in ...</td>\n",
       "      <td>www.ndtv.com</td>\n",
       "    </tr>\n",
       "    <tr>\n",
       "      <th>4</th>\n",
       "      <td>201301</td>\n",
       "      <td>oil price</td>\n",
       "      <td></td>\n",
       "      <td>Trillions of dollars worth of oil found in Aus...</td>\n",
       "      <td></td>\n",
       "      <td></td>\n",
       "      <td>The discovery in central Australia was reporte...</td>\n",
       "      <td>“What we’re seeing up there is a very, very bi...</td>\n",
       "      <td>www.telegraph.co.uk</td>\n",
       "    </tr>\n",
       "  </tbody>\n",
       "</table>\n",
       "</div>"
      ],
      "text/plain": [
       "      mon    keyword rescnt  \\\n",
       "0  201301  oil price          \n",
       "1  201301  oil price          \n",
       "2  201301  oil price          \n",
       "3  201301  oil price          \n",
       "4  201301  oil price          \n",
       "\n",
       "                                               title date wkday  \\\n",
       "0                     Iran's Real Threat to the West              \n",
       "1                                  Subscribe to read              \n",
       "2  A Graphic View of How Shale Gas could Change t...              \n",
       "3  Government allows oil firms to revise diesel p...              \n",
       "4  Trillions of dollars worth of oil found in Aus...              \n",
       "\n",
       "                                                text  \\\n",
       "0  Since the Islamic revolution in Iran in 1979 m...   \n",
       "1  Become an FT subscriber to read:\\n\\nLeverage o...   \n",
       "2  The real impact stems from its effect on the o...   \n",
       "3  In a move that could help the government reduc...   \n",
       "4  The discovery in central Australia was reporte...   \n",
       "\n",
       "                                                smry                press  \n",
       "0  The real danger emanating from Iran today come...         oilprice.com  \n",
       "1  Become an FT subscriber to read:\\nLeverage our...           www.ft.com  \n",
       "2  ...The major geopolitical impact of shale extr...         oilprice.com  \n",
       "3  It had proposed a Rs 3-4.50 per litre hike in ...         www.ndtv.com  \n",
       "4  “What we’re seeing up there is a very, very bi...  www.telegraph.co.uk  "
      ]
     },
     "execution_count": 11,
     "metadata": {},
     "output_type": "execute_result"
    }
   ],
   "source": [
    "df.head()"
   ]
  },
  {
   "cell_type": "code",
   "execution_count": 12,
   "metadata": {},
   "outputs": [],
   "source": [
    "import torch\n",
    "import torch.nn as nn\n",
    "import torch.nn.functional as F\n",
    "import torch.optim as optim"
   ]
  },
  {
   "cell_type": "code",
   "execution_count": 13,
   "metadata": {},
   "outputs": [
    {
     "data": {
      "text/plain": [
       "<torch._C.Generator at 0x1d15d137250>"
      ]
     },
     "execution_count": 13,
     "metadata": {},
     "output_type": "execute_result"
    }
   ],
   "source": [
    "torch.manual_seed(1)"
   ]
  },
  {
   "cell_type": "code",
   "execution_count": 14,
   "metadata": {},
   "outputs": [],
   "source": [
    "word_to_ix = {\"hello\":0,\"world\":1}"
   ]
  },
  {
   "cell_type": "code",
   "execution_count": 15,
   "metadata": {},
   "outputs": [],
   "source": [
    "embeds = nn.Embedding(2,5) # 2 words in vocab, 5 dimensional mbeddings"
   ]
  },
  {
   "cell_type": "code",
   "execution_count": 16,
   "metadata": {},
   "outputs": [],
   "source": [
    "lookup_tensor = torch.tensor([word_to_ix[\"hello\"]],dtype = torch.long)\n",
    "hello_embed = embeds(lookup_tensor)"
   ]
  },
  {
   "cell_type": "code",
   "execution_count": 17,
   "metadata": {},
   "outputs": [
    {
     "data": {
      "text/plain": [
       "tensor([[ 0.6614,  0.2669,  0.0617,  0.6213, -0.4519]],\n",
       "       grad_fn=<EmbeddingBackward>)"
      ]
     },
     "execution_count": 17,
     "metadata": {},
     "output_type": "execute_result"
    }
   ],
   "source": [
    "hello_embed"
   ]
  },
  {
   "cell_type": "code",
   "execution_count": 20,
   "metadata": {},
   "outputs": [
    {
     "data": {
      "text/plain": [
       "[0]"
      ]
     },
     "execution_count": 20,
     "metadata": {},
     "output_type": "execute_result"
    }
   ],
   "source": [
    "[word_to_ix[\"hello\"]]"
   ]
  },
  {
   "cell_type": "code",
   "execution_count": 21,
   "metadata": {},
   "outputs": [
    {
     "data": {
      "text/plain": [
       "tensor([0])"
      ]
     },
     "execution_count": 21,
     "metadata": {},
     "output_type": "execute_result"
    }
   ],
   "source": [
    "torch.tensor([0],dtype=torch.long)"
   ]
  },
  {
   "cell_type": "code",
   "execution_count": 22,
   "metadata": {},
   "outputs": [
    {
     "data": {
      "text/plain": [
       "tensor([0])"
      ]
     },
     "execution_count": 22,
     "metadata": {},
     "output_type": "execute_result"
    }
   ],
   "source": [
    "lookup_tensor"
   ]
  },
  {
   "cell_type": "code",
   "execution_count": 24,
   "metadata": {},
   "outputs": [
    {
     "data": {
      "text/plain": [
       "tensor([[ 0.6614,  0.2669,  0.0617,  0.6213, -0.4519]],\n",
       "       grad_fn=<EmbeddingBackward>)"
      ]
     },
     "execution_count": 24,
     "metadata": {},
     "output_type": "execute_result"
    }
   ],
   "source": [
    "embeds(lookup_tensor)"
   ]
  },
  {
   "cell_type": "code",
   "execution_count": 25,
   "metadata": {},
   "outputs": [],
   "source": [
    "context_size = 2\n",
    "embedding_dim = 10"
   ]
  },
  {
   "cell_type": "code",
   "execution_count": 26,
   "metadata": {},
   "outputs": [
    {
     "data": {
      "text/html": [
       "<div>\n",
       "<style scoped>\n",
       "    .dataframe tbody tr th:only-of-type {\n",
       "        vertical-align: middle;\n",
       "    }\n",
       "\n",
       "    .dataframe tbody tr th {\n",
       "        vertical-align: top;\n",
       "    }\n",
       "\n",
       "    .dataframe thead th {\n",
       "        text-align: right;\n",
       "    }\n",
       "</style>\n",
       "<table border=\"1\" class=\"dataframe\">\n",
       "  <thead>\n",
       "    <tr style=\"text-align: right;\">\n",
       "      <th></th>\n",
       "      <th>mon</th>\n",
       "      <th>keyword</th>\n",
       "      <th>rescnt</th>\n",
       "      <th>title</th>\n",
       "      <th>date</th>\n",
       "      <th>wkday</th>\n",
       "      <th>text</th>\n",
       "      <th>smry</th>\n",
       "      <th>press</th>\n",
       "    </tr>\n",
       "  </thead>\n",
       "  <tbody>\n",
       "    <tr>\n",
       "      <th>0</th>\n",
       "      <td>201301</td>\n",
       "      <td>oil price</td>\n",
       "      <td></td>\n",
       "      <td>Iran's Real Threat to the West</td>\n",
       "      <td></td>\n",
       "      <td></td>\n",
       "      <td>Since the Islamic revolution in Iran in 1979 m...</td>\n",
       "      <td>The real danger emanating from Iran today come...</td>\n",
       "      <td>oilprice.com</td>\n",
       "    </tr>\n",
       "    <tr>\n",
       "      <th>1</th>\n",
       "      <td>201301</td>\n",
       "      <td>oil price</td>\n",
       "      <td></td>\n",
       "      <td>Subscribe to read</td>\n",
       "      <td></td>\n",
       "      <td></td>\n",
       "      <td>Become an FT subscriber to read:\\n\\nLeverage o...</td>\n",
       "      <td>Become an FT subscriber to read:\\nLeverage our...</td>\n",
       "      <td>www.ft.com</td>\n",
       "    </tr>\n",
       "    <tr>\n",
       "      <th>2</th>\n",
       "      <td>201301</td>\n",
       "      <td>oil price</td>\n",
       "      <td></td>\n",
       "      <td>A Graphic View of How Shale Gas could Change t...</td>\n",
       "      <td></td>\n",
       "      <td></td>\n",
       "      <td>The real impact stems from its effect on the o...</td>\n",
       "      <td>...The major geopolitical impact of shale extr...</td>\n",
       "      <td>oilprice.com</td>\n",
       "    </tr>\n",
       "    <tr>\n",
       "      <th>3</th>\n",
       "      <td>201301</td>\n",
       "      <td>oil price</td>\n",
       "      <td></td>\n",
       "      <td>Government allows oil firms to revise diesel p...</td>\n",
       "      <td></td>\n",
       "      <td></td>\n",
       "      <td>In a move that could help the government reduc...</td>\n",
       "      <td>It had proposed a Rs 3-4.50 per litre hike in ...</td>\n",
       "      <td>www.ndtv.com</td>\n",
       "    </tr>\n",
       "    <tr>\n",
       "      <th>4</th>\n",
       "      <td>201301</td>\n",
       "      <td>oil price</td>\n",
       "      <td></td>\n",
       "      <td>Trillions of dollars worth of oil found in Aus...</td>\n",
       "      <td></td>\n",
       "      <td></td>\n",
       "      <td>The discovery in central Australia was reporte...</td>\n",
       "      <td>“What we’re seeing up there is a very, very bi...</td>\n",
       "      <td>www.telegraph.co.uk</td>\n",
       "    </tr>\n",
       "  </tbody>\n",
       "</table>\n",
       "</div>"
      ],
      "text/plain": [
       "      mon    keyword rescnt  \\\n",
       "0  201301  oil price          \n",
       "1  201301  oil price          \n",
       "2  201301  oil price          \n",
       "3  201301  oil price          \n",
       "4  201301  oil price          \n",
       "\n",
       "                                               title date wkday  \\\n",
       "0                     Iran's Real Threat to the West              \n",
       "1                                  Subscribe to read              \n",
       "2  A Graphic View of How Shale Gas could Change t...              \n",
       "3  Government allows oil firms to revise diesel p...              \n",
       "4  Trillions of dollars worth of oil found in Aus...              \n",
       "\n",
       "                                                text  \\\n",
       "0  Since the Islamic revolution in Iran in 1979 m...   \n",
       "1  Become an FT subscriber to read:\\n\\nLeverage o...   \n",
       "2  The real impact stems from its effect on the o...   \n",
       "3  In a move that could help the government reduc...   \n",
       "4  The discovery in central Australia was reporte...   \n",
       "\n",
       "                                                smry                press  \n",
       "0  The real danger emanating from Iran today come...         oilprice.com  \n",
       "1  Become an FT subscriber to read:\\nLeverage our...           www.ft.com  \n",
       "2  ...The major geopolitical impact of shale extr...         oilprice.com  \n",
       "3  It had proposed a Rs 3-4.50 per litre hike in ...         www.ndtv.com  \n",
       "4  “What we’re seeing up there is a very, very bi...  www.telegraph.co.uk  "
      ]
     },
     "execution_count": 26,
     "metadata": {},
     "output_type": "execute_result"
    }
   ],
   "source": [
    "df.head()"
   ]
  },
  {
   "cell_type": "code",
   "execution_count": 37,
   "metadata": {},
   "outputs": [],
   "source": [
    "from nltk.tokenize import word_tokenize"
   ]
  },
  {
   "cell_type": "code",
   "execution_count": 38,
   "metadata": {},
   "outputs": [],
   "source": [
    "test_sentence = word_tokenize(df.text[0])"
   ]
  },
  {
   "cell_type": "code",
   "execution_count": 39,
   "metadata": {},
   "outputs": [],
   "source": [
    "trigrams = [([test_sentence[i],test_sentence[i+1]],test_sentence[i+2]) for i in range(len(test_sentence)-2)]"
   ]
  },
  {
   "cell_type": "code",
   "execution_count": 40,
   "metadata": {},
   "outputs": [
    {
     "name": "stdout",
     "output_type": "stream",
     "text": [
      "[(['Since', 'the'], 'Islamic'), (['the', 'Islamic'], 'revolution'), (['Islamic', 'revolution'], 'in')]\n"
     ]
    }
   ],
   "source": [
    "print(trigrams[:3])"
   ]
  },
  {
   "cell_type": "code",
   "execution_count": 41,
   "metadata": {},
   "outputs": [],
   "source": [
    "vocab = set(test_sentence)"
   ]
  },
  {
   "cell_type": "code",
   "execution_count": 42,
   "metadata": {},
   "outputs": [],
   "source": [
    "word_to_ix = {word: i for i, word in enumerate(vocab)}"
   ]
  },
  {
   "cell_type": "code",
   "execution_count": 43,
   "metadata": {},
   "outputs": [
    {
     "ename": "NameError",
     "evalue": "name 'EMBEDDING_DIM' is not defined",
     "output_type": "error",
     "traceback": [
      "\u001b[1;31m---------------------------------------------------------------------------\u001b[0m",
      "\u001b[1;31mNameError\u001b[0m                                 Traceback (most recent call last)",
      "\u001b[1;32m<ipython-input-43-a006d2aa8914>\u001b[0m in \u001b[0;36m<module>\u001b[1;34m\u001b[0m\n\u001b[0;32m     17\u001b[0m \u001b[0mlosses\u001b[0m \u001b[1;33m=\u001b[0m \u001b[1;33m[\u001b[0m\u001b[1;33m]\u001b[0m\u001b[1;33m\u001b[0m\u001b[1;33m\u001b[0m\u001b[0m\n\u001b[0;32m     18\u001b[0m \u001b[0mloss_function\u001b[0m \u001b[1;33m=\u001b[0m \u001b[0mnn\u001b[0m\u001b[1;33m.\u001b[0m\u001b[0mNLLLoss\u001b[0m\u001b[1;33m(\u001b[0m\u001b[1;33m)\u001b[0m\u001b[1;33m\u001b[0m\u001b[1;33m\u001b[0m\u001b[0m\n\u001b[1;32m---> 19\u001b[1;33m \u001b[0mmodel\u001b[0m \u001b[1;33m=\u001b[0m \u001b[0mNGramLanguageModeler\u001b[0m\u001b[1;33m(\u001b[0m\u001b[0mlen\u001b[0m\u001b[1;33m(\u001b[0m\u001b[0mvocab\u001b[0m\u001b[1;33m)\u001b[0m\u001b[1;33m,\u001b[0m \u001b[0mEMBEDDING_DIM\u001b[0m\u001b[1;33m,\u001b[0m \u001b[0mCONTEXT_SIZE\u001b[0m\u001b[1;33m)\u001b[0m\u001b[1;33m\u001b[0m\u001b[1;33m\u001b[0m\u001b[0m\n\u001b[0m\u001b[0;32m     20\u001b[0m \u001b[0moptimizer\u001b[0m \u001b[1;33m=\u001b[0m \u001b[0moptim\u001b[0m\u001b[1;33m.\u001b[0m\u001b[0mSGD\u001b[0m\u001b[1;33m(\u001b[0m\u001b[0mmodel\u001b[0m\u001b[1;33m.\u001b[0m\u001b[0mparameters\u001b[0m\u001b[1;33m(\u001b[0m\u001b[1;33m)\u001b[0m\u001b[1;33m,\u001b[0m \u001b[0mlr\u001b[0m\u001b[1;33m=\u001b[0m\u001b[1;36m0.001\u001b[0m\u001b[1;33m)\u001b[0m\u001b[1;33m\u001b[0m\u001b[1;33m\u001b[0m\u001b[0m\n\u001b[0;32m     21\u001b[0m \u001b[1;33m\u001b[0m\u001b[0m\n",
      "\u001b[1;31mNameError\u001b[0m: name 'EMBEDDING_DIM' is not defined"
     ]
    }
   ],
   "source": [
    "class NGramLanguageModeler(nn.Module):\n",
    "\n",
    "    def __init__(self, vocab_size, embedding_dim, context_size):\n",
    "        super(NGramLanguageModeler, self).__init__()\n",
    "        self.embeddings = nn.Embedding(vocab_size, embedding_dim)\n",
    "        self.linear1 = nn.Linear(context_size * embedding_dim, 128)\n",
    "        self.linear2 = nn.Linear(128, vocab_size)\n",
    "\n",
    "    def forward(self, inputs):\n",
    "        embeds = self.embeddings(inputs).view((1, -1))\n",
    "        out = F.relu(self.linear1(embeds))\n",
    "        out = self.linear2(out)\n",
    "        log_probs = F.log_softmax(out, dim=1)\n",
    "        return log_probs\n",
    "\n",
    "\n",
    "losses = []\n",
    "loss_function = nn.NLLLoss()\n",
    "model = NGramLanguageModeler(len(vocab), EMBEDDING_DIM, CONTEXT_SIZE)\n",
    "optimizer = optim.SGD(model.parameters(), lr=0.001)\n",
    "\n",
    "for epoch in range(10):\n",
    "    total_loss = 0\n",
    "    for context, target in trigrams:\n",
    "\n",
    "        # Step 1. Prepare the inputs to be passed to the model (i.e, turn the words\n",
    "        # into integer indices and wrap them in tensors)\n",
    "        context_idxs = torch.tensor([word_to_ix[w] for w in context], dtype=torch.long)\n",
    "\n",
    "        # Step 2. Recall that torch *accumulates* gradients. Before passing in a\n",
    "        # new instance, you need to zero out the gradients from the old\n",
    "        # instance\n",
    "        model.zero_grad()\n",
    "\n",
    "        # Step 3. Run the forward pass, getting log probabilities over next\n",
    "        # words\n",
    "        log_probs = model(context_idxs)\n",
    "\n",
    "        # Step 4. Compute your loss function. (Again, Torch wants the target\n",
    "        # word wrapped in a tensor)\n",
    "        loss = loss_function(log_probs, torch.tensor([word_to_ix[target]], dtype=torch.long))\n",
    "\n",
    "        # Step 5. Do the backward pass and update the gradient\n",
    "        loss.backward()\n",
    "        optimizer.step()\n",
    "\n",
    "        # Get the Python number from a 1-element Tensor by calling tensor.item()\n",
    "        total_loss += loss.item()\n",
    "    losses.append(total_loss)\n",
    "print(losses)  # The loss decreased every iteration over the training data!"
   ]
  },
  {
   "cell_type": "code",
   "execution_count": null,
   "metadata": {},
   "outputs": [],
   "source": []
  }
 ],
 "metadata": {
  "kernelspec": {
   "display_name": "Python 3",
   "language": "python",
   "name": "python3"
  },
  "language_info": {
   "codemirror_mode": {
    "name": "ipython",
    "version": 3
   },
   "file_extension": ".py",
   "mimetype": "text/x-python",
   "name": "python",
   "nbconvert_exporter": "python",
   "pygments_lexer": "ipython3",
   "version": "3.7.3"
  }
 },
 "nbformat": 4,
 "nbformat_minor": 4
}
